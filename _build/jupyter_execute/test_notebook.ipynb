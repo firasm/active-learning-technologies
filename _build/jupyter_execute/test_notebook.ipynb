{
 "cells": [
  {
   "cell_type": "markdown",
   "metadata": {},
   "source": [
    "# Content with notebooks\n",
    "\n",
    "You can also create content with Jupyter Notebooks. This means that you can include\n",
    "code blocks and their outputs in your book."
   ]
  },
  {
   "cell_type": "code",
   "execution_count": 1,
   "metadata": {},
   "outputs": [
    {
     "data": {
      "text/html": [
       "\n",
       "<div id=\"altair-viz-41deab1027dd499eb98ce559ee66b0ec\"></div>\n",
       "<script type=\"text/javascript\">\n",
       "  (function(spec, embedOpt){\n",
       "    const outputDiv = document.getElementById(\"altair-viz-41deab1027dd499eb98ce559ee66b0ec\");\n",
       "    const paths = {\n",
       "      \"vega\": \"https://cdn.jsdelivr.net/npm//vega@5?noext\",\n",
       "      \"vega-lib\": \"https://cdn.jsdelivr.net/npm//vega-lib?noext\",\n",
       "      \"vega-lite\": \"https://cdn.jsdelivr.net/npm//vega-lite@4.0.2?noext\",\n",
       "      \"vega-embed\": \"https://cdn.jsdelivr.net/npm//vega-embed@6?noext\",\n",
       "    };\n",
       "\n",
       "    function loadScript(lib) {\n",
       "      return new Promise(function(resolve, reject) {\n",
       "        var s = document.createElement('script');\n",
       "        s.src = paths[lib];\n",
       "        s.async = true;\n",
       "        s.onload = () => resolve(paths[lib]);\n",
       "        s.onerror = () => reject(`Error loading script: ${paths[lib]}`);\n",
       "        document.getElementsByTagName(\"head\")[0].appendChild(s);\n",
       "      });\n",
       "    }\n",
       "\n",
       "    function showError(err) {\n",
       "      outputDiv.innerHTML = `<div class=\"error\" style=\"color:red;\">${err}</div>`;\n",
       "      throw err;\n",
       "    }\n",
       "\n",
       "    function displayChart(vegaEmbed) {\n",
       "      vegaEmbed(outputDiv, spec, embedOpt)\n",
       "        .catch(err => showError(`Javascript Error: ${err.message}<br>This usually means there's a typo in your chart specification. See the javascript console for the full traceback.`));\n",
       "    }\n",
       "\n",
       "    if(typeof define === \"function\" && define.amd) {\n",
       "      requirejs.config({paths});\n",
       "      require([\"vega-embed\"], displayChart, err => showError(`Error loading script: ${err.message}`));\n",
       "    } else if (typeof vegaEmbed === \"function\") {\n",
       "      displayChart(vegaEmbed);\n",
       "    } else {\n",
       "      loadScript(\"vega\")\n",
       "        .then(() => loadScript(\"vega-lite\"))\n",
       "        .then(() => loadScript(\"vega-embed\"))\n",
       "        .catch(showError)\n",
       "        .then(() => displayChart(vegaEmbed));\n",
       "    }\n",
       "  })({\"config\": {\"view\": {\"continuousWidth\": 400, \"continuousHeight\": 300}}, \"vconcat\": [{\"hconcat\": [{\"mark\": {\"type\": \"point\", \"filled\": true}, \"encoding\": {\"tooltip\": {\"type\": \"nominal\", \"field\": \"Title\"}, \"x\": {\"type\": \"quantitative\", \"field\": \"Worldwide_Gross\", \"scale\": {\"clamp\": true, \"domain\": [100000, 1000000000]}}, \"y\": {\"type\": \"quantitative\", \"field\": \"IMDB_Rating\"}}, \"height\": 200, \"selection\": {\"Release Year_\": {\"type\": \"single\", \"bind\": {\"input\": \"range\", \"max\": 2018, \"min\": 1969, \"step\": 1}, \"fields\": [\"Release_Year\"]}}, \"title\": \"Slider Filtering\", \"transform\": [{\"calculate\": \"floor(datum.IMDB_Rating)\", \"as\": \"Rounded_IMDB_Rating\"}, {\"calculate\": \"datum.Production_Budget > 100000000.0 ? 100 : 10\", \"as\": \"Hundred_Million_Production\"}, {\"calculate\": \"year(datum.Release_Date)\", \"as\": \"Release_Year\"}, {\"filter\": \"(datum.IMDB_Rating > 0)\"}, {\"filter\": {\"field\": \"MPAA_Rating\", \"oneOf\": [\"G\", \"NC-17\", \"PG\", \"PG-13\", \"R\"]}}, {\"filter\": {\"selection\": \"Release Year_\"}}], \"width\": 200}, {\"mark\": {\"type\": \"point\", \"filled\": true}, \"encoding\": {\"tooltip\": {\"type\": \"nominal\", \"field\": \"Title\"}, \"x\": {\"type\": \"quantitative\", \"field\": \"Worldwide_Gross\", \"scale\": {\"clamp\": true, \"domain\": [100000, 1000000000]}}, \"y\": {\"type\": \"quantitative\", \"field\": \"IMDB_Rating\"}}, \"height\": 200, \"selection\": {\"Genre\": {\"type\": \"single\", \"fields\": [\"Major_Genre\"], \"bind\": {\"input\": \"select\", \"options\": [\"Action\", \"Adventure\", \"Black Comedy\", \"Comedy\", \"Concert/Performance\", \"Documentary\", \"Drama\", \"Horror\", \"Musical\", \"Romantic Comedy\", \"Thriller/Suspense\", \"Western\"]}}}, \"title\": \"Dropdown Filtering\", \"transform\": [{\"calculate\": \"floor(datum.IMDB_Rating)\", \"as\": \"Rounded_IMDB_Rating\"}, {\"calculate\": \"datum.Production_Budget > 100000000.0 ? 100 : 10\", \"as\": \"Hundred_Million_Production\"}, {\"calculate\": \"year(datum.Release_Date)\", \"as\": \"Release_Year\"}, {\"filter\": \"(datum.IMDB_Rating > 0)\"}, {\"filter\": {\"field\": \"MPAA_Rating\", \"oneOf\": [\"G\", \"NC-17\", \"PG\", \"PG-13\", \"R\"]}}, {\"filter\": {\"selection\": \"Genre\"}}], \"width\": 200}]}, {\"hconcat\": [{\"mark\": {\"type\": \"point\", \"filled\": true}, \"encoding\": {\"color\": {\"condition\": {\"type\": \"nominal\", \"field\": \"MPAA_Rating\", \"legend\": null, \"selection\": \"Rating\"}, \"value\": \"lightgray\"}, \"tooltip\": {\"type\": \"nominal\", \"field\": \"Title\"}, \"x\": {\"type\": \"quantitative\", \"field\": \"Worldwide_Gross\", \"scale\": {\"clamp\": true, \"domain\": [100000, 1000000000]}}, \"y\": {\"type\": \"quantitative\", \"field\": \"IMDB_Rating\"}}, \"height\": 200, \"selection\": {\"Rating\": {\"type\": \"single\", \"fields\": [\"MPAA_Rating\"], \"bind\": {\"input\": \"radio\", \"options\": [\"G\", \"NC-17\", \"PG\", \"PG-13\", \"R\"]}}}, \"title\": \"Radio Button Highlighting\", \"transform\": [{\"calculate\": \"floor(datum.IMDB_Rating)\", \"as\": \"Rounded_IMDB_Rating\"}, {\"calculate\": \"datum.Production_Budget > 100000000.0 ? 100 : 10\", \"as\": \"Hundred_Million_Production\"}, {\"calculate\": \"year(datum.Release_Date)\", \"as\": \"Release_Year\"}, {\"filter\": \"(datum.IMDB_Rating > 0)\"}, {\"filter\": {\"field\": \"MPAA_Rating\", \"oneOf\": [\"G\", \"NC-17\", \"PG\", \"PG-13\", \"R\"]}}], \"width\": 200}, {\"mark\": {\"type\": \"point\", \"filled\": true}, \"encoding\": {\"size\": {\"type\": \"quantitative\", \"condition\": {\"value\": 25, \"selection\": \"Big Budget Films\"}, \"field\": \"Hundred_Million_Production\"}, \"tooltip\": {\"type\": \"nominal\", \"field\": \"Title\"}, \"x\": {\"type\": \"quantitative\", \"field\": \"Worldwide_Gross\", \"scale\": {\"clamp\": true, \"domain\": [100000, 1000000000]}}, \"y\": {\"type\": \"quantitative\", \"field\": \"IMDB_Rating\"}}, \"height\": 200, \"selection\": {\"Big Budget Films\": {\"type\": \"single\", \"bind\": {\"input\": \"checkbox\"}}}, \"title\": \"Checkbox Formatting\", \"transform\": [{\"calculate\": \"floor(datum.IMDB_Rating)\", \"as\": \"Rounded_IMDB_Rating\"}, {\"calculate\": \"datum.Production_Budget > 100000000.0 ? 100 : 10\", \"as\": \"Hundred_Million_Production\"}, {\"calculate\": \"year(datum.Release_Date)\", \"as\": \"Release_Year\"}, {\"filter\": \"(datum.IMDB_Rating > 0)\"}, {\"filter\": {\"field\": \"MPAA_Rating\", \"oneOf\": [\"G\", \"NC-17\", \"PG\", \"PG-13\", \"R\"]}}], \"width\": 200}]}], \"data\": {\"url\": \"https://vega.github.io/vega-datasets/data/movies.json\", \"format\": {\"parse\": {\"Release_Date\": \"date\"}}}, \"$schema\": \"https://vega.github.io/schema/vega-lite/v4.0.2.json\"}, {\"mode\": \"vega-lite\"});\n",
       "</script>"
      ],
      "text/plain": [
       "alt.VConcatChart(...)"
      ]
     },
     "execution_count": 1,
     "metadata": {},
     "output_type": "execute_result"
    }
   ],
   "source": [
    "import altair as alt\n",
    "from vega_datasets import data\n",
    "\n",
    "movies = alt.UrlData(\n",
    "    data.movies.url,\n",
    "    format=alt.DataFormat(parse={\"Release_Date\":\"date\"})\n",
    ")\n",
    "ratings = ['G', 'NC-17', 'PG', 'PG-13', 'R']\n",
    "genres = ['Action', 'Adventure', 'Black Comedy', 'Comedy',\n",
    "       'Concert/Performance', 'Documentary', 'Drama', 'Horror', 'Musical',\n",
    "       'Romantic Comedy', 'Thriller/Suspense', 'Western']\n",
    "\n",
    "base = alt.Chart(movies, width=200, height=200).mark_point(filled=True).transform_calculate(\n",
    "    Rounded_IMDB_Rating = \"floor(datum.IMDB_Rating)\",\n",
    "    Hundred_Million_Production =  \"datum.Production_Budget > 100000000.0 ? 100 : 10\",\n",
    "    Release_Year = \"year(datum.Release_Date)\"\n",
    ").transform_filter(\n",
    "    alt.datum.IMDB_Rating > 0\n",
    ").transform_filter(\n",
    "    alt.FieldOneOfPredicate(field='MPAA_Rating', oneOf=ratings)\n",
    ").encode(\n",
    "    x=alt.X('Worldwide_Gross:Q', scale=alt.Scale(domain=(100000,10**9), clamp=True)),\n",
    "    y='IMDB_Rating:Q',\n",
    "    tooltip=\"Title:N\"\n",
    ")\n",
    "\n",
    "# A slider filter\n",
    "year_slider = alt.binding_range(min=1969, max=2018, step=1)\n",
    "slider_selection = alt.selection_single(bind=year_slider, fields=['Release_Year'], name=\"Release Year_\")\n",
    "\n",
    "\n",
    "filter_year = base.add_selection(\n",
    "    slider_selection\n",
    ").transform_filter(\n",
    "    slider_selection\n",
    ").properties(title=\"Slider Filtering\")\n",
    "\n",
    "# A dropdown filter\n",
    "genre_dropdown = alt.binding_select(options=genres)\n",
    "genre_select = alt.selection_single(fields=['Major_Genre'], bind=genre_dropdown, name=\"Genre\")\n",
    "\n",
    "filter_genres = base.add_selection(\n",
    "    genre_select\n",
    ").transform_filter(\n",
    "    genre_select\n",
    ").properties(title=\"Dropdown Filtering\")\n",
    "\n",
    "#color changing marks\n",
    "rating_radio = alt.binding_radio(options=ratings)\n",
    "\n",
    "rating_select = alt.selection_single(fields=['MPAA_Rating'], bind=rating_radio, name=\"Rating\")\n",
    "rating_color_condition = alt.condition(rating_select,\n",
    "                      alt.Color('MPAA_Rating:N', legend=None),\n",
    "                      alt.value('lightgray'))\n",
    "\n",
    "highlight_ratings = base.add_selection(\n",
    "    rating_select\n",
    ").encode(\n",
    "    color=rating_color_condition\n",
    ").properties(title=\"Radio Button Highlighting\")\n",
    "\n",
    "# Boolean selection for format changes\n",
    "input_checkbox = alt.binding_checkbox()\n",
    "checkbox_selection = alt.selection_single(bind=input_checkbox, name=\"Big Budget Films\")\n",
    "\n",
    "size_checkbox_condition = alt.condition(checkbox_selection,\n",
    "                                        alt.SizeValue(25),\n",
    "                                        alt.Size('Hundred_Million_Production:Q')\n",
    "                                       )\n",
    "\n",
    "budget_sizing = base.add_selection(\n",
    "    checkbox_selection\n",
    ").encode(\n",
    "    size=size_checkbox_condition\n",
    ").properties(title=\"Checkbox Formatting\")\n",
    "\n",
    "( filter_year | filter_genres) &  (highlight_ratings | budget_sizing  )"
   ]
  },
  {
   "cell_type": "markdown",
   "metadata": {},
   "source": [
    "There is a lot more that you can do with outputs (such as including interactive outputs)\n",
    "with your book. For more information about this, see [the Jupyter Book documentation](https://executablebooks.github.io/cli/start/overview.html)"
   ]
  },
  {
   "cell_type": "code",
   "execution_count": null,
   "metadata": {},
   "outputs": [],
   "source": []
  }
 ],
 "metadata": {
  "kernelspec": {
   "display_name": "Python 3",
   "language": "python",
   "name": "python3"
  },
  "language_info": {
   "codemirror_mode": {
    "name": "ipython",
    "version": 3
   },
   "file_extension": ".py",
   "mimetype": "text/x-python",
   "name": "python",
   "nbconvert_exporter": "python",
   "pygments_lexer": "ipython3",
   "version": "3.7.7"
  },
  "nteract": {
   "version": "0.23.1"
  },
  "widgets": {
   "application/vnd.jupyter.widget-state+json": {
    "state": {},
    "version_major": 2,
    "version_minor": 0
   }
  }
 },
 "nbformat": 4,
 "nbformat_minor": 4
}