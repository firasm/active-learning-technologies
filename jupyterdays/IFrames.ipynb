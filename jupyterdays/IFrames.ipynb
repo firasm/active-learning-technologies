{
 "cells": [
  {
   "cell_type": "markdown",
   "metadata": {},
   "source": [
    "# Example 1: IFrames"
   ]
  },
  {
   "cell_type": "markdown",
   "metadata": {},
   "source": [
    "## What is an IFrame?\n",
    "\n",
    "- "
   ]
  },
  {
   "cell_type": "markdown",
   "metadata": {},
   "source": [
    "## Why are IFrames so useful for teaching?\n",
    "\n",
    "- Cohesive interface, one central home for everything\n",
    "- Structure is really important, especially when things are online\n",
    "- Multiple tools can be integrated together"
   ]
  },
  {
   "cell_type": "markdown",
   "metadata": {},
   "source": [
    "## Examples of IFrames\n",
    "\n",
    "- Regular websites\n",
    "- Google forms\n",
    "- PHET simulations\n"
   ]
  },
  {
   "cell_type": "markdown",
   "metadata": {},
   "source": [
    "## Things to think about\n",
    "\n",
    "- Often it doesn't make sense to use IFrames so link out to full sites when appropriate\n",
    "    - Tests and quizzes\n",
    "    - Content you have to interact with (everything is scaled down)\n",
    "    - Documents with a lot of scrolling \n",
    "- Test how IFrames look on mobile devices\n",
    "    - Many options, try: https://ready.mobi\n",
    "    - Local options including [changing the user agent](https://www.searchenginejournal.com/change-user-agent/368448/)\n",
    "- Control and tweak how IFrames appear [using CSS](https://www.w3schools.com/howto/howto_css_responsive_iframes.asp)\n",
    "- Think about accessibility: [some guidelines here](https://accessibility.18f.gov/iframes/)"
   ]
  },
  {
   "cell_type": "markdown",
   "metadata": {},
   "source": [
    "### Limitations of IFrames\n",
    "\n",
    "- Some publishers do not allow IFrames (e.g., Pearson)\n",
    "- It's annoying to scroll in IFrames\n",
    "- There are some [security implications](https://www.ostraining.com/blog/webdesign/against-using-iframes/) of IFrames"
   ]
  },
  {
   "cell_type": "markdown",
   "metadata": {},
   "source": [
    "### Additional References"
   ]
  },
  {
   "cell_type": "code",
   "execution_count": null,
   "metadata": {},
   "outputs": [],
   "source": []
  },
  {
   "cell_type": "markdown",
   "metadata": {},
   "source": [
    "- [iframe tag documentation](https://www.w3schools.com/tags/tag_iframe.asp)\n",
    "- \n",
    "- \n"
   ]
  }
 ],
 "metadata": {
  "kernelspec": {
   "display_name": "Python 3",
   "language": "python",
   "name": "python3"
  },
  "language_info": {
   "codemirror_mode": {
    "name": "ipython",
    "version": 3
   },
   "file_extension": ".py",
   "mimetype": "text/x-python",
   "name": "python",
   "nbconvert_exporter": "python",
   "pygments_lexer": "ipython3",
   "version": "3.7.7"
  },
  "nteract": {
   "version": "0.23.1"
  },
  "widgets": {
   "application/vnd.jupyter.widget-state+json": {
    "state": {},
    "version_major": 2,
    "version_minor": 0
   }
  }
 },
 "nbformat": 4,
 "nbformat_minor": 4
}