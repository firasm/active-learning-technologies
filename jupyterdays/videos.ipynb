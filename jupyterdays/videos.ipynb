{
 "cells": [
  {
   "cell_type": "markdown",
   "metadata": {},
   "source": [
    "# Example 3: Videos"
   ]
  },
  {
   "cell_type": "markdown",
   "metadata": {},
   "source": [
    "Whether you are flipping the classroom, teaching online, face-to-face, or using a blended model, videos are an essential component of classrooms. \n",
    "Below are several ways  of using videos to enhance instruction. \n",
    "Note that the examples below increasing in complexity and set-up time as you scroll down the page."
   ]
  },
  {
   "cell_type": "markdown",
   "metadata": {},
   "source": [
    "## Scenario A: Embedding a hosted video\n",
    "\n",
    "Perhaps this is the most common scenario, where you want students to watch a video that is publicly hosted on a video sharing site such as YouTube, Vimeo, Twitch, etc...\n",
    "\n",
    "```{figure} ../images/youtube_embed.png\n",
    "---\n",
    "height: 400px\n",
    "name: figure-youtube_embed\n",
    "---\n",
    "To get the embed URL from a YouTube video, visit a YouTube video, click the \"Share\" button, and select the \"Embed\" option. Copy and paste the embed code into a markdown cell.\n",
    "```\n",
    "\n",
    "```{tip} Pro Tip: Check the \"Enable privacy-enhanced mode\" checkbox, and YouTube will do just be a tiny bit better about storing cookies on your students' computers. The best option is to avoid YouTube altogether if you can!\n",
    "```\n",
    "\n"
   ]
  },
  {
   "cell_type": "markdown",
   "metadata": {},
   "source": [
    "<div class=\"container\">\n",
    "<iframe class=\"responsive-iframe\" src=\"https://www.youtube-nocookie.com/embed/kKKM8Y-u7ds\" frameborder=\"0\" allow=\"accelerometer; autoplay=\"0\"; encrypted-media; gyroscope; picture-in-picture\" allowfullscreen></iframe>\n",
    "</div>"
   ]
  },
  {
   "cell_type": "markdown",
   "metadata": {},
   "source": [
    "### TODO: Explain the way to enforce a 16:9 (or other) aspect ratio using css (_static/extra.css):\n",
    "\n",
    "```\n",
    "<div class=\"container\">\n",
    "<iframe class=\"responsive-iframe\" src=\"https://www.youtube-nocookie.com/embed/kKKM8Y-u7ds\" frameborder=\"0\" allow=\"accelerometer; autoplay=\"0\"; encrypted-media; gyroscope; picture-in-picture\" allowfullscreen></iframe>\n",
    "</div>\n",
    "```"
   ]
  },
  {
   "cell_type": "markdown",
   "metadata": {},
   "source": [
    "### Instructions for embedding videos hosted on other platforms\n",
    "\n",
    "- [Vimeo](https://vimeo.zendesk.com/hc/en-us/articles/224969968-Embedding-videos-overview)\n",
    "- [Twitch](https://dev.twitch.tv/docs/embed)\n",
    "- [Kaltura](https://knowledge.kaltura.com/help/sharing-and-embedding-media)\n",
    "- Local file (Instructions coming soon)\n",
    "    - In short, the file has to be hosted somewhere (server, dropbox, google drive) and then you can use the same embed trick"
   ]
  },
  {
   "cell_type": "markdown",
   "metadata": {},
   "source": [
    "## Scenario B: Video and a quiz\n"
   ]
  },
  {
   "cell_type": "markdown",
   "metadata": {},
   "source": [
    "<iframe src=\"https://player.vimeo.com/video/165374948\" width=\"100%\" height=\"400\" frameborder=\"0\" allow=\"fullscreen\" allowfullscreen></iframe>\n",
    "\n",
    "If you happen to be teaching at UBC-Vancouver, you can [book the Lightboard studio](https://lthub.ubc.ca/guides/lightboard/)!"
   ]
  },
  {
   "cell_type": "markdown",
   "metadata": {},
   "source": [
    "### Short Quiz\n",
    "\n",
    "You may imagine giving students a short comprehension quiz after they watch a video to make sure they grasped the finer points of the lesson.\n",
    "You can also embed quizzes directly into your JupyterBook so it's a seamless experience for the students. \n",
    "Here we will use Qualtrics, but other options are also possible!\n",
    "\n",
    "The example quiz with automatic scoring below is from the [University of Michigan Qualtrics wiki](http://webservices.itcs.umich.edu/mediawiki/qualtrics/index.php/Example_Surveys)!\n",
    "\n",
    "<iframe src=\"https://umichbus.qualtrics.com/SE/?SID=SV_cFPFvElYyKyb3qB\" frameborder=\"0\" width=\"100%\" height=\"2200px\"></iframe>\n",
    "\n"
   ]
  },
  {
   "cell_type": "markdown",
   "metadata": {},
   "source": [
    "#### Making quizzes on Qualtrics\n",
    "\n",
    "Qualtrics has some [extremely good resources](https://www.qualtrics.com/support/survey-platform/survey-module/survey-tools/scoring/) on creating quizzes and automatically scoring them. \n",
    "There are sophisticated options for creating quizzes, I encourage you to check it out. \n",
    "At UBC and UBCO, we have an institutional license to Qualtrics, so you can even ask students to authenticate via CWL and collect student identification information.\n",
    "In other words - if used correctly - this is fully FIPPA compliant!\n",
    "\n",
    "#### Authenticating Qualtrics surveys with CWL (or other SSO)\n",
    "\n",
    "To require students to autheticate via CWL (or other single-sign-on) before attempting a survey, have a look at this [documentation page](https://www.qualtrics.com/support/survey-platform/survey-module/survey-flow/advanced-elements/authenticator/sso-authenticator/).\n",
    "If you're at UBC or UBCO, you can set your Authenticator settings in Survey Flows like this:\n",
    "\n",
    "```{figure} ../images/qualtrics_sso.png\n",
    "---\n",
    "name: figure-qualtrics_sso\n",
    "---\n",
    "SSO settings for a Qualtrics Survey; enabling this will require authentication before the survey can be accessed.\n",
    "```\n",
    "\n",
    "Here's the qualtrics survey embedded in the IFrame.\n",
    "<iframe src=\"https://ubc.ca1.qualtrics.com/jfe/form/SV_0MyZxI8Wck4YTxX\" frameborder=\"0\" width=\"100%\" height=\"600px\"></iframe>"
   ]
  },
  {
   "cell_type": "markdown",
   "metadata": {},
   "source": [
    "## Scenario C: Quiz IN a video\n",
    "\n",
    "Scenario B is pretty good, but it's still a bit clunky as the quiz and the video are separated.\n",
    "That is often a desired feature, especially if students want to come back and re-visit the quiz after thinking about the video. \n",
    "\n",
    "Sometimes though, it would be good to pause the video and ask students one or several clicker-type questions, and give them some feedback.\n",
    "\n",
    "This is where the Kaltura Video Service (and a few others) can help facilitate these types of interactions. \n",
    "\n",
    "See an example below:"
   ]
  },
  {
   "cell_type": "markdown",
   "metadata": {},
   "source": [
    "<iframe id=\"kaltura_player\" src=\"https://admin.video.ubc.ca/p/113/sp/11300/embedIframeJs/uiconf_id/23448341/partner_id/113?iframeembed=true&playerId=kaltura_player&entry_id=0_layirauo&flashvars[streamerType]=auto&amp;flashvars[localizationCode]=en&amp;flashvars[expandToggleBtn.plugin]=false&amp;flashvars[leadWithHTML5]=true&amp;flashvars[sideBarContainer.plugin]=true&amp;flashvars[sideBarContainer.position]=left&amp;flashvars[sideBarContainer.clickToClose]=true&amp;flashvars[chapters.plugin]=true&amp;flashvars[chapters.layout]=vertical&amp;flashvars[chapters.thumbnailRotator]=false&amp;flashvars[streamSelector.plugin]=true&amp;flashvars[EmbedPlayer.SpinnerTarget]=videoHolder&amp;flashvars[dualScreen.plugin]=true&amp;flashvars[hotspots.plugin]=1&amp;flashvars[Kaltura.addCrossoriginToIframe]=true&amp;&wid=0_jezphicq\" width=\"100%\" height=\"432\" allowfullscreen webkitallowfullscreen mozAllowFullScreen allow=\"autoplay *; fullscreen *; encrypted-media *\" frameborder=\"0\" title=\"Kaltura Player\"></iframe>"
   ]
  },
  {
   "cell_type": "markdown",
   "metadata": {},
   "source": [
    "Kaltura Interactive quizzes are super easy to create (but it does take time!) and share with students.\n",
    "The [UBC LTHub](https://lthub.ubc.ca/guides/kaltura/#Kaltura_Embed_-_Canvas_Rich_Content_Editor) has some instructions and there is also a self-paced [Kaltura training course](https://canvas.ubc.ca/enroll/FFTMNN) with even more details."
   ]
  },
  {
   "cell_type": "markdown",
   "metadata": {},
   "source": [
    "## References\n",
    "\n",
    "Coming soon!"
   ]
  }
 ],
 "metadata": {
  "kernelspec": {
   "display_name": "Python 3",
   "language": "python",
   "name": "python3"
  },
  "language_info": {
   "codemirror_mode": {
    "name": "ipython",
    "version": 3
   },
   "file_extension": ".py",
   "mimetype": "text/x-python",
   "name": "python",
   "nbconvert_exporter": "python",
   "pygments_lexer": "ipython3",
   "version": "3.8.3-final"
  },
  "nteract": {
   "version": "0.23.1"
  },
  "widgets": {
   "application/vnd.jupyter.widget-state+json": {
    "state": {},
    "version_major": 2,
    "version_minor": 0
   }
  }
 },
 "nbformat": 4,
 "nbformat_minor": 4
}