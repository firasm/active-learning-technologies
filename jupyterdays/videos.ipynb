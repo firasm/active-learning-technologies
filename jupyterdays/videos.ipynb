{
 "cells": [
  {
   "cell_type": "markdown",
   "metadata": {},
   "source": [
    "# Example 3: Videos"
   ]
  },
  {
   "cell_type": "markdown",
   "metadata": {},
   "source": [
    "Whether you are flipping the classroom, teaching online, face-to-face, or using a blended model, videos are an essential component of classrooms. \n",
    "Below are several ways  of using videos to enhance instruction. \n",
    "Note that the examples below increasing in complexity and set-up time as you scroll down the page."
   ]
  },
  {
   "cell_type": "markdown",
   "metadata": {},
   "source": [
    "## Scenario A: Embedding a hosted video\n",
    "\n",
    "Perhaps this is the most common scenario, where you want students to watch a video that is publicly hosted on a video sharing site such as YouTube, Vimeo, Twitch, etc...\n",
    "\n",
    "```{figure} ../images/youtube_embed.png\n",
    "---\n",
    "height: 200px\n",
    "name: figure-youtube_embed\n",
    "---\n",
    "To get the embed URL from a YouTube video, visit a YouTube video, click the \"Share\" button, and select the \"Embed\" option. Copy and paste the embed code into a markdown cell.\n",
    "```\n",
    "\n",
    "```{tip} Pro Tip: Check the \"Enable privacy-enhanced mode\" checkbox, and YouTube will do just be a tiny bit better about storing cookies on your students' computers. The best option is to avoid YouTube altogether if you can!\n",
    "```\n",
    "\n"
   ]
  },
  {
   "cell_type": "markdown",
   "metadata": {},
   "source": [
    "<iframe width=\"560\" height=\"315\" src=\"https://www.youtube-nocookie.com/embed/kKKM8Y-u7ds\" frameborder=\"0\" allow=\"accelerometer; autoplay; encrypted-media; gyroscope; picture-in-picture\" allowfullscreen></iframe>"
   ]
  },
  {
   "cell_type": "code",
   "execution_count": null,
   "metadata": {},
   "outputs": [],
   "source": [
    "### Instructtions for embedding videos hosted on other platforms\n",
    "\n",
    "- [Vimeo]()\n",
    "- [Twitch]()\n",
    "- [Kaltura]()\n",
    "- [Local file]()"
   ]
  },
  {
   "cell_type": "markdown",
   "metadata": {},
   "source": [
    "## Scenario B: Video and a quiz\n"
   ]
  },
  {
   "cell_type": "markdown",
   "metadata": {},
   "source": [
    "## Scenario C: Quiz IN a video"
   ]
  },
  {
   "cell_type": "markdown",
   "metadata": {},
   "source": [
    "## Scenario D: Video and Assignment"
   ]
  },
  {
   "cell_type": "code",
   "execution_count": null,
   "metadata": {},
   "outputs": [],
   "source": []
  }
 ],
 "metadata": {
  "kernelspec": {
   "display_name": "Python 3",
   "language": "python",
   "name": "python3"
  },
  "language_info": {
   "codemirror_mode": {
    "name": "ipython",
    "version": 3
   },
   "file_extension": ".py",
   "mimetype": "text/x-python",
   "name": "python",
   "nbconvert_exporter": "python",
   "pygments_lexer": "ipython3",
   "version": "3.7.7"
  },
  "nteract": {
   "version": "0.23.1"
  },
  "widgets": {
   "application/vnd.jupyter.widget-state+json": {
    "state": {},
    "version_major": 2,
    "version_minor": 0
   }
  }
 },
 "nbformat": 4,
 "nbformat_minor": 4
}