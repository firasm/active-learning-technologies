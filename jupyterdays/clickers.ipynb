{
 "cells": [
  {
   "cell_type": "markdown",
   "metadata": {},
   "source": [
    "# Example 2: Clicker questions"
   ]
  },
  {
   "cell_type": "markdown",
   "metadata": {},
   "source": [
    "Doing clicker questions using JupyterBook is very seamless for students!\n",
    "\n",
    "One can use any of the web-based options that exist. \n",
    "\n",
    "Some examples I have used before are:\n",
    "\n",
    "- [sli.do](https://sli.do)\n",
    "- [Poll Everywhere](https://pollev.com)\n",
    "- [TypeForm](https://typeform)\n",
    "- [Mentimeter](https://www.mentimeter.com)\n",
    "\n",
    "There are many others, most should work if they have some sort of web interface.\n",
    "Here is how to get the embed URL from [sli.do](https://sli.do):\n",
    "\n",
    "```{figure} ../images/slido.png\n",
    "---\n",
    "height: 200px\n",
    "name: figure-slido\n",
    "---\n",
    "To get the embed URL from a sli.do event, click the three vertical buttons for the question you want to embed, and then \"Share\".\n",
    "```"
   ]
  },
  {
   "cell_type": "markdown",
   "metadata": {},
   "source": [
    "In general, here are the steps to do this:\n",
    "\n",
    "1. Create your poll as you would\n",
    "2. Grab the embed URL from the website (see {numref}`figure-slido`)\n",
    "3. Paste it into a jupyter notebook file as a markdown cell or as an IFrame\n"
   ]
  },
  {
   "cell_type": "markdown",
   "metadata": {},
   "source": [
    "## Activity 1: Let's do a quick poll using sli.do (1 min)"
   ]
  },
  {
   "cell_type": "markdown",
   "metadata": {},
   "source": [
    "<iframe src=\"https://app.sli.do/event/7cljwqgq/embed/polls/ab33d3ee-f713-498d-9f31-7db3e85497af\" frameborder=\"0\" width=\"700\" height=\"650\"></iframe>"
   ]
  },
  {
   "cell_type": "markdown",
   "metadata": {},
   "source": [
    "```{admonition} Breakout room Instructions\n",
    "See below for instructions on what to do in the breakout rooms!\n",
    "```"
   ]
  },
  {
   "cell_type": "markdown",
   "metadata": {},
   "source": [
    "## Activity 2: Breakout rooms to discuss two questions (7 mins)\n",
    "\n",
    "### Instructions:\n",
    "\n",
    "- The moderators will initiate breakout rooms with 3-4 colleagues\n",
    "- Collectively, you should discuss the following questions below\n",
    "- The breakout rooms will run for exactly 5 minutes \n",
    "- After we return from breakout rooms, I will activate a new sli.do question to demonstrate another question type\n",
    "\n",
    "### Questions to discuss\n",
    "\n",
    "1. Will you be using polling synchronously or asynchronously this fall while remote teaching?\n",
    "\n",
    "2. What is your biggest fear when using clicker-like polls this fall while remote teaching?"
   ]
  },
  {
   "cell_type": "markdown",
   "metadata": {},
   "source": [
    "## Activity 3: Reflect and report back (3 mins)"
   ]
  },
  {
   "cell_type": "markdown",
   "metadata": {},
   "source": [
    "<iframe src=\"https://app.sli.do/event/7cljwqgq/embed/polls/b64b0cfe-c280-4ebb-80eb-a186d56aafcb\" frameborder=\"0\" width=\"700\" height=\"650\"></iframe>"
   ]
  },
  {
   "cell_type": "markdown",
   "metadata": {},
   "source": [
    "Below is an example of what the final word cloud will look like with N=X participants:\n",
    "\n",
    "```{figure} ../images/slido_wordcloud.png\n",
    "---\n",
    "height: 200px\n",
    "name: figure-slido_wordcloud\n",
    "---\n",
    "The word cloud for the question: What is your biggest fear when using clicker-like polls this fall while remote teaching? This was done as part of a JupyterDays 2020 session.\n",
    "```\n"
   ]
  },
  {
   "cell_type": "markdown",
   "metadata": {},
   "source": [
    "## References\n",
    "\n",
    "Coming soon...\n"
   ]
  }
 ],
 "metadata": {
  "kernelspec": {
   "display_name": "Python 3",
   "language": "python",
   "name": "python3"
  },
  "language_info": {
   "codemirror_mode": {
    "name": "ipython",
    "version": 3
   },
   "file_extension": ".py",
   "mimetype": "text/x-python",
   "name": "python",
   "nbconvert_exporter": "python",
   "pygments_lexer": "ipython3",
   "version": "3.7.7"
  },
  "nteract": {
   "version": "0.23.1"
  },
  "widgets": {
   "application/vnd.jupyter.widget-state+json": {
    "state": {},
    "version_major": 2,
    "version_minor": 0
   }
  }
 },
 "nbformat": 4,
 "nbformat_minor": 4
}