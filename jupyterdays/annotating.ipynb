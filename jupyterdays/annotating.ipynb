{
 "cells": [
  {
   "cell_type": "markdown",
   "metadata": {},
   "source": [
    "# Example 4: Annotation using hypothes.is"
   ]
  },
  {
   "cell_type": "markdown",
   "metadata": {},
   "source": [
    "## Introduction to web annotating \n",
    "\n",
    "- [Hypothes.is](https://web.hypothes.is) (and web annotating in general)\n",
    "- [Teacher guides to using Hypothesis](https://web.hypothes.is/teacher-resource-guide/)\n",
    "\n",
    "```{figure} ../images/hypothesis.png\n",
    "---\n",
    "height: 800px\n",
    "name: figure-hypothesis\n",
    "---\n",
    "The above is a screenshot from [this page](https://web.hypothes.is/blog/back-to-school-with-annotation-10-ways-to-annotate-with-students/) with Hypothesis in action.```\n"
   ]
  },
  {
   "cell_type": "markdown",
   "metadata": {},
   "source": [
    "\n",
    "### Sample [JupyterBook with Hypothesis enabled](https://predictablynoisy.com/sphinx-comments/hypothesis.html)\n"
   ]
  },
  {
   "cell_type": "markdown",
   "metadata": {},
   "source": [
    "## Example: Annotating your Syllabus\n",
    "\n",
    "Here is a sample [annotated syllabus](https://scalar.case.edu/busch-practice/syllabus-feedback-215) from Professor David Busch of Case Western Reserve University."
   ]
  },
  {
   "cell_type": "markdown",
   "metadata": {},
   "source": [
    "## References\n",
    "\n",
    "- Dr. Remi Kalir - [Annotating your syllabus](http://remikalir.com/blog/annotate-your-syllabus-3-0/)"
   ]
  }
 ],
 "metadata": {
  "kernelspec": {
   "display_name": "Python 3",
   "language": "python",
   "name": "python3"
  },
  "language_info": {
   "codemirror_mode": {
    "name": "ipython",
    "version": 3
   },
   "file_extension": ".py",
   "mimetype": "text/x-python",
   "name": "python",
   "nbconvert_exporter": "python",
   "pygments_lexer": "ipython3",
   "version": "3.7.7"
  },
  "nteract": {
   "version": "0.23.1"
  },
  "widgets": {
   "application/vnd.jupyter.widget-state+json": {
    "state": {},
    "version_major": 2,
    "version_minor": 0
   }
  }
 },
 "nbformat": 4,
 "nbformat_minor": 4
}